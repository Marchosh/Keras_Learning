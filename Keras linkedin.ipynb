{
 "cells": [
  {
   "cell_type": "markdown",
   "id": "0acd0d75",
   "metadata": {},
   "source": [
    "# Import Data & library"
   ]
  },
  {
   "cell_type": "code",
   "execution_count": 1,
   "id": "883da0be",
   "metadata": {},
   "outputs": [],
   "source": [
    "import pandas as pd\n",
    "from sklearn.preprocessing import MinMaxScaler\n",
    "\n",
    "# Load training data set from CSV file\n",
    "training_data_df = pd.read_csv(\"03\\sales_data_training.csv\")\n",
    "\n",
    "# Load testing data set from CSV file\n",
    "test_data_df = pd.read_csv(\"03\\sales_data_test.csv\")\n"
   ]
  },
  {
   "cell_type": "code",
   "execution_count": 2,
   "id": "b5c10352",
   "metadata": {},
   "outputs": [
    {
     "data": {
      "text/html": [
       "<div>\n",
       "<style scoped>\n",
       "    .dataframe tbody tr th:only-of-type {\n",
       "        vertical-align: middle;\n",
       "    }\n",
       "\n",
       "    .dataframe tbody tr th {\n",
       "        vertical-align: top;\n",
       "    }\n",
       "\n",
       "    .dataframe thead th {\n",
       "        text-align: right;\n",
       "    }\n",
       "</style>\n",
       "<table border=\"1\" class=\"dataframe\">\n",
       "  <thead>\n",
       "    <tr style=\"text-align: right;\">\n",
       "      <th></th>\n",
       "      <th>critic_rating</th>\n",
       "      <th>is_action</th>\n",
       "      <th>is_exclusive_to_us</th>\n",
       "      <th>is_portable</th>\n",
       "      <th>is_role_playing</th>\n",
       "      <th>is_sequel</th>\n",
       "      <th>is_sports</th>\n",
       "      <th>suitable_for_kids</th>\n",
       "      <th>total_earnings</th>\n",
       "      <th>unit_price</th>\n",
       "    </tr>\n",
       "  </thead>\n",
       "  <tbody>\n",
       "    <tr>\n",
       "      <th>0</th>\n",
       "      <td>3.5</td>\n",
       "      <td>1</td>\n",
       "      <td>0</td>\n",
       "      <td>1</td>\n",
       "      <td>0</td>\n",
       "      <td>1</td>\n",
       "      <td>0</td>\n",
       "      <td>0</td>\n",
       "      <td>132717</td>\n",
       "      <td>59.99</td>\n",
       "    </tr>\n",
       "    <tr>\n",
       "      <th>1</th>\n",
       "      <td>4.5</td>\n",
       "      <td>0</td>\n",
       "      <td>0</td>\n",
       "      <td>0</td>\n",
       "      <td>0</td>\n",
       "      <td>1</td>\n",
       "      <td>1</td>\n",
       "      <td>0</td>\n",
       "      <td>83407</td>\n",
       "      <td>49.99</td>\n",
       "    </tr>\n",
       "    <tr>\n",
       "      <th>2</th>\n",
       "      <td>3.0</td>\n",
       "      <td>0</td>\n",
       "      <td>0</td>\n",
       "      <td>0</td>\n",
       "      <td>0</td>\n",
       "      <td>1</td>\n",
       "      <td>1</td>\n",
       "      <td>0</td>\n",
       "      <td>62423</td>\n",
       "      <td>49.99</td>\n",
       "    </tr>\n",
       "    <tr>\n",
       "      <th>3</th>\n",
       "      <td>4.5</td>\n",
       "      <td>1</td>\n",
       "      <td>0</td>\n",
       "      <td>0</td>\n",
       "      <td>0</td>\n",
       "      <td>0</td>\n",
       "      <td>0</td>\n",
       "      <td>1</td>\n",
       "      <td>69889</td>\n",
       "      <td>39.99</td>\n",
       "    </tr>\n",
       "    <tr>\n",
       "      <th>4</th>\n",
       "      <td>4.0</td>\n",
       "      <td>1</td>\n",
       "      <td>0</td>\n",
       "      <td>1</td>\n",
       "      <td>0</td>\n",
       "      <td>1</td>\n",
       "      <td>0</td>\n",
       "      <td>1</td>\n",
       "      <td>161382</td>\n",
       "      <td>59.99</td>\n",
       "    </tr>\n",
       "  </tbody>\n",
       "</table>\n",
       "</div>"
      ],
      "text/plain": [
       "   critic_rating  is_action  is_exclusive_to_us  is_portable  is_role_playing  \\\n",
       "0            3.5          1                   0            1                0   \n",
       "1            4.5          0                   0            0                0   \n",
       "2            3.0          0                   0            0                0   \n",
       "3            4.5          1                   0            0                0   \n",
       "4            4.0          1                   0            1                0   \n",
       "\n",
       "   is_sequel  is_sports  suitable_for_kids  total_earnings  unit_price  \n",
       "0          1          0                  0          132717       59.99  \n",
       "1          1          1                  0           83407       49.99  \n",
       "2          1          1                  0           62423       49.99  \n",
       "3          0          0                  1           69889       39.99  \n",
       "4          1          0                  1          161382       59.99  "
      ]
     },
     "execution_count": 2,
     "metadata": {},
     "output_type": "execute_result"
    }
   ],
   "source": [
    "training_data_df.head(5)"
   ]
  },
  {
   "cell_type": "code",
   "execution_count": 3,
   "id": "169f0ea4",
   "metadata": {},
   "outputs": [
    {
     "data": {
      "text/html": [
       "<div>\n",
       "<style scoped>\n",
       "    .dataframe tbody tr th:only-of-type {\n",
       "        vertical-align: middle;\n",
       "    }\n",
       "\n",
       "    .dataframe tbody tr th {\n",
       "        vertical-align: top;\n",
       "    }\n",
       "\n",
       "    .dataframe thead th {\n",
       "        text-align: right;\n",
       "    }\n",
       "</style>\n",
       "<table border=\"1\" class=\"dataframe\">\n",
       "  <thead>\n",
       "    <tr style=\"text-align: right;\">\n",
       "      <th></th>\n",
       "      <th>critic_rating</th>\n",
       "      <th>is_action</th>\n",
       "      <th>is_exclusive_to_us</th>\n",
       "      <th>is_portable</th>\n",
       "      <th>is_role_playing</th>\n",
       "      <th>is_sequel</th>\n",
       "      <th>is_sports</th>\n",
       "      <th>suitable_for_kids</th>\n",
       "      <th>total_earnings</th>\n",
       "      <th>unit_price</th>\n",
       "    </tr>\n",
       "  </thead>\n",
       "  <tbody>\n",
       "    <tr>\n",
       "      <th>0</th>\n",
       "      <td>3.5</td>\n",
       "      <td>1</td>\n",
       "      <td>1</td>\n",
       "      <td>1</td>\n",
       "      <td>0</td>\n",
       "      <td>1</td>\n",
       "      <td>0</td>\n",
       "      <td>1</td>\n",
       "      <td>247537</td>\n",
       "      <td>59.99</td>\n",
       "    </tr>\n",
       "    <tr>\n",
       "      <th>1</th>\n",
       "      <td>2.5</td>\n",
       "      <td>0</td>\n",
       "      <td>0</td>\n",
       "      <td>0</td>\n",
       "      <td>1</td>\n",
       "      <td>1</td>\n",
       "      <td>0</td>\n",
       "      <td>0</td>\n",
       "      <td>73960</td>\n",
       "      <td>59.99</td>\n",
       "    </tr>\n",
       "    <tr>\n",
       "      <th>2</th>\n",
       "      <td>3.5</td>\n",
       "      <td>0</td>\n",
       "      <td>0</td>\n",
       "      <td>0</td>\n",
       "      <td>0</td>\n",
       "      <td>1</td>\n",
       "      <td>1</td>\n",
       "      <td>0</td>\n",
       "      <td>82671</td>\n",
       "      <td>59.99</td>\n",
       "    </tr>\n",
       "    <tr>\n",
       "      <th>3</th>\n",
       "      <td>4.0</td>\n",
       "      <td>1</td>\n",
       "      <td>1</td>\n",
       "      <td>0</td>\n",
       "      <td>0</td>\n",
       "      <td>1</td>\n",
       "      <td>0</td>\n",
       "      <td>0</td>\n",
       "      <td>137456</td>\n",
       "      <td>39.99</td>\n",
       "    </tr>\n",
       "    <tr>\n",
       "      <th>4</th>\n",
       "      <td>2.0</td>\n",
       "      <td>1</td>\n",
       "      <td>0</td>\n",
       "      <td>1</td>\n",
       "      <td>0</td>\n",
       "      <td>1</td>\n",
       "      <td>0</td>\n",
       "      <td>0</td>\n",
       "      <td>89639</td>\n",
       "      <td>59.99</td>\n",
       "    </tr>\n",
       "  </tbody>\n",
       "</table>\n",
       "</div>"
      ],
      "text/plain": [
       "   critic_rating  is_action  is_exclusive_to_us  is_portable  is_role_playing  \\\n",
       "0            3.5          1                   1            1                0   \n",
       "1            2.5          0                   0            0                1   \n",
       "2            3.5          0                   0            0                0   \n",
       "3            4.0          1                   1            0                0   \n",
       "4            2.0          1                   0            1                0   \n",
       "\n",
       "   is_sequel  is_sports  suitable_for_kids  total_earnings  unit_price  \n",
       "0          1          0                  1          247537       59.99  \n",
       "1          1          0                  0           73960       59.99  \n",
       "2          1          1                  0           82671       59.99  \n",
       "3          1          0                  0          137456       39.99  \n",
       "4          1          0                  0           89639       59.99  "
      ]
     },
     "execution_count": 3,
     "metadata": {},
     "output_type": "execute_result"
    }
   ],
   "source": [
    "test_data_df.head(5)"
   ]
  },
  {
   "cell_type": "markdown",
   "id": "b6921577",
   "metadata": {},
   "source": [
    "# Preprocess Data"
   ]
  },
  {
   "cell_type": "markdown",
   "id": "655a610b",
   "metadata": {},
   "source": [
    "## Data needs to be scaled to a small range like 0 to 1 for the neural network to work well."
   ]
  },
  {
   "cell_type": "code",
   "execution_count": 4,
   "id": "ca749def",
   "metadata": {},
   "outputs": [],
   "source": [
    "#scaler\n",
    "from sklearn.preprocessing import MinMaxScaler\n",
    "scaler = MinMaxScaler(feature_range=(0,1))"
   ]
  },
  {
   "cell_type": "code",
   "execution_count": 5,
   "id": "a6718a58",
   "metadata": {},
   "outputs": [],
   "source": [
    "# Scale both the training inputs and outputs\n",
    "scaled_training = scaler.fit_transform(training_data_df)\n",
    "scaled_testing = scaler.transform(test_data_df)\n"
   ]
  },
  {
   "cell_type": "code",
   "execution_count": 6,
   "id": "4f34e698",
   "metadata": {},
   "outputs": [
    {
     "name": "stdout",
     "output_type": "stream",
     "text": [
      "Note: total_earnings values were scaled by multiplying by 0.0000036968 and adding -0.115913\n"
     ]
    }
   ],
   "source": [
    "# Print out the adjustment that the scaler applied to the total_earnings column of data\n",
    "print(\"Note: total_earnings values were scaled by multiplying by {:.10f} and adding {:.6f}\".format(scaler.scale_[8], scaler.min_[8]))"
   ]
  },
  {
   "cell_type": "code",
   "execution_count": 7,
   "id": "f845b469",
   "metadata": {},
   "outputs": [],
   "source": [
    "# Create new pandas DataFrame objects from the scaled data\n",
    "scaled_training_df = pd.DataFrame(scaled_training, columns=training_data_df.columns.values)\n",
    "scaled_testing_df = pd.DataFrame(scaled_testing, columns=test_data_df.columns.values)\n"
   ]
  },
  {
   "cell_type": "code",
   "execution_count": 8,
   "id": "3833880b",
   "metadata": {},
   "outputs": [],
   "source": [
    "# Save scaled data dataframes to new CSV files\n",
    "scaled_training_df.to_csv(\"sales_data_training_scaled.csv\", index=False)\n",
    "scaled_testing_df.to_csv(\"sales_data_test_scaled.csv\", index=False)"
   ]
  },
  {
   "cell_type": "markdown",
   "id": "c71ac934",
   "metadata": {},
   "source": [
    "# Create Model"
   ]
  },
  {
   "cell_type": "code",
   "execution_count": 9,
   "id": "5f92112d",
   "metadata": {},
   "outputs": [],
   "source": [
    "import pandas as pd\n",
    "from keras.models import Sequential\n",
    "from keras.layers import *\n",
    "\n",
    "training_data_df = pd.read_csv(\"03\\sales_data_training_scaled.csv\")\n",
    "\n",
    "X = training_data_df.drop('total_earnings', axis=1).values\n",
    "Y = training_data_df[['total_earnings']].values\n",
    "\n",
    "# Define the model\n",
    "model = Sequential()\n",
    "model.add(Dense(50, input_dim=9, activation='relu'))\n",
    "model.add(Dense(100, activation='relu'))\n",
    "model.add(Dense(50, activation='relu'))\n",
    "model.add(Dense(1, activation='linear'))\n",
    "model.compile(loss=\"mean_squared_error\", optimizer=\"adam\")"
   ]
  },
  {
   "cell_type": "markdown",
   "id": "cb1ef1fa",
   "metadata": {},
   "source": [
    "# Train Model"
   ]
  },
  {
   "cell_type": "code",
   "execution_count": 10,
   "id": "040f1303",
   "metadata": {},
   "outputs": [
    {
     "name": "stdout",
     "output_type": "stream",
     "text": [
      "Epoch 1/50\n",
      "32/32 - 0s - loss: 0.0161 - 401ms/epoch - 13ms/step\n",
      "Epoch 2/50\n",
      "32/32 - 0s - loss: 0.0026 - 35ms/epoch - 1ms/step\n",
      "Epoch 3/50\n",
      "32/32 - 0s - loss: 8.3873e-04 - 34ms/epoch - 1ms/step\n",
      "Epoch 4/50\n",
      "32/32 - 0s - loss: 4.5172e-04 - 34ms/epoch - 1ms/step\n",
      "Epoch 5/50\n",
      "32/32 - 0s - loss: 2.8727e-04 - 35ms/epoch - 1ms/step\n",
      "Epoch 6/50\n",
      "32/32 - 0s - loss: 2.0657e-04 - 35ms/epoch - 1ms/step\n",
      "Epoch 7/50\n",
      "32/32 - 0s - loss: 1.4917e-04 - 47ms/epoch - 1ms/step\n",
      "Epoch 8/50\n",
      "32/32 - 0s - loss: 1.1648e-04 - 40ms/epoch - 1ms/step\n",
      "Epoch 9/50\n",
      "32/32 - 0s - loss: 8.8494e-05 - 38ms/epoch - 1ms/step\n",
      "Epoch 10/50\n",
      "32/32 - 0s - loss: 7.2895e-05 - 35ms/epoch - 1ms/step\n",
      "Epoch 11/50\n",
      "32/32 - 0s - loss: 6.8270e-05 - 35ms/epoch - 1ms/step\n",
      "Epoch 12/50\n",
      "32/32 - 0s - loss: 5.7772e-05 - 35ms/epoch - 1ms/step\n",
      "Epoch 13/50\n",
      "32/32 - 0s - loss: 5.2459e-05 - 35ms/epoch - 1ms/step\n",
      "Epoch 14/50\n",
      "32/32 - 0s - loss: 5.0319e-05 - 36ms/epoch - 1ms/step\n",
      "Epoch 15/50\n",
      "32/32 - 0s - loss: 3.7399e-05 - 38ms/epoch - 1ms/step\n",
      "Epoch 16/50\n",
      "32/32 - 0s - loss: 3.8213e-05 - 35ms/epoch - 1ms/step\n",
      "Epoch 17/50\n",
      "32/32 - 0s - loss: 4.4717e-05 - 36ms/epoch - 1ms/step\n",
      "Epoch 18/50\n",
      "32/32 - 0s - loss: 3.1119e-05 - 35ms/epoch - 1ms/step\n",
      "Epoch 19/50\n",
      "32/32 - 0s - loss: 3.4646e-05 - 35ms/epoch - 1ms/step\n",
      "Epoch 20/50\n",
      "32/32 - 0s - loss: 3.9047e-05 - 35ms/epoch - 1ms/step\n",
      "Epoch 21/50\n",
      "32/32 - 0s - loss: 3.6380e-05 - 35ms/epoch - 1ms/step\n",
      "Epoch 22/50\n",
      "32/32 - 0s - loss: 2.6135e-05 - 35ms/epoch - 1ms/step\n",
      "Epoch 23/50\n",
      "32/32 - 0s - loss: 2.9927e-05 - 35ms/epoch - 1ms/step\n",
      "Epoch 24/50\n",
      "32/32 - 0s - loss: 2.7368e-05 - 37ms/epoch - 1ms/step\n",
      "Epoch 25/50\n",
      "32/32 - 0s - loss: 2.8031e-05 - 34ms/epoch - 1ms/step\n",
      "Epoch 26/50\n",
      "32/32 - 0s - loss: 4.0769e-05 - 35ms/epoch - 1ms/step\n",
      "Epoch 27/50\n",
      "32/32 - 0s - loss: 4.4112e-05 - 35ms/epoch - 1ms/step\n",
      "Epoch 28/50\n",
      "32/32 - 0s - loss: 3.6286e-05 - 36ms/epoch - 1ms/step\n",
      "Epoch 29/50\n",
      "32/32 - 0s - loss: 4.5366e-05 - 35ms/epoch - 1ms/step\n",
      "Epoch 30/50\n",
      "32/32 - 0s - loss: 2.7773e-05 - 35ms/epoch - 1ms/step\n",
      "Epoch 31/50\n",
      "32/32 - 0s - loss: 2.5415e-05 - 34ms/epoch - 1ms/step\n",
      "Epoch 32/50\n",
      "32/32 - 0s - loss: 3.4485e-05 - 36ms/epoch - 1ms/step\n",
      "Epoch 33/50\n",
      "32/32 - 0s - loss: 4.4825e-05 - 34ms/epoch - 1ms/step\n",
      "Epoch 34/50\n",
      "32/32 - 0s - loss: 3.1611e-05 - 35ms/epoch - 1ms/step\n",
      "Epoch 35/50\n",
      "32/32 - 0s - loss: 6.3555e-05 - 39ms/epoch - 1ms/step\n",
      "Epoch 36/50\n",
      "32/32 - 0s - loss: 4.1815e-05 - 46ms/epoch - 1ms/step\n",
      "Epoch 37/50\n",
      "32/32 - 0s - loss: 2.5275e-05 - 36ms/epoch - 1ms/step\n",
      "Epoch 38/50\n",
      "32/32 - 0s - loss: 3.0604e-05 - 34ms/epoch - 1ms/step\n",
      "Epoch 39/50\n",
      "32/32 - 0s - loss: 3.8248e-05 - 34ms/epoch - 1ms/step\n",
      "Epoch 40/50\n",
      "32/32 - 0s - loss: 4.1294e-05 - 34ms/epoch - 1ms/step\n",
      "Epoch 41/50\n",
      "32/32 - 0s - loss: 3.0914e-05 - 34ms/epoch - 1ms/step\n",
      "Epoch 42/50\n",
      "32/32 - 0s - loss: 2.8885e-05 - 36ms/epoch - 1ms/step\n",
      "Epoch 43/50\n",
      "32/32 - 0s - loss: 3.8085e-05 - 35ms/epoch - 1ms/step\n",
      "Epoch 44/50\n",
      "32/32 - 0s - loss: 7.1217e-05 - 41ms/epoch - 1ms/step\n",
      "Epoch 45/50\n",
      "32/32 - 0s - loss: 4.6630e-05 - 35ms/epoch - 1ms/step\n",
      "Epoch 46/50\n",
      "32/32 - 0s - loss: 4.9440e-05 - 35ms/epoch - 1ms/step\n",
      "Epoch 47/50\n",
      "32/32 - 0s - loss: 4.8945e-05 - 37ms/epoch - 1ms/step\n",
      "Epoch 48/50\n",
      "32/32 - 0s - loss: 5.9492e-05 - 34ms/epoch - 1ms/step\n",
      "Epoch 49/50\n",
      "32/32 - 0s - loss: 5.3957e-05 - 34ms/epoch - 1ms/step\n",
      "Epoch 50/50\n",
      "32/32 - 0s - loss: 4.5314e-05 - 36ms/epoch - 1ms/step\n"
     ]
    },
    {
     "data": {
      "text/plain": [
       "<keras.callbacks.History at 0x1a95604c340>"
      ]
     },
     "execution_count": 10,
     "metadata": {},
     "output_type": "execute_result"
    }
   ],
   "source": [
    "model.fit(\n",
    "X,\n",
    "Y,\n",
    "epochs=50,\n",
    "shuffle=True,\n",
    "verbose=2\n",
    ")"
   ]
  },
  {
   "cell_type": "code",
   "execution_count": 11,
   "id": "4381d930",
   "metadata": {},
   "outputs": [
    {
     "name": "stdout",
     "output_type": "stream",
     "text": [
      "The mean squared error (MSE) for the test data set is: 9.33918563532643e-05\n"
     ]
    }
   ],
   "source": [
    "# Load the separate test data set\n",
    "test_data_df = pd.read_csv(\"03\\sales_data_test_scaled.csv\")\n",
    "\n",
    "X_test = test_data_df.drop('total_earnings', axis=1).values\n",
    "Y_test = test_data_df[['total_earnings']].values\n",
    "\n",
    "test_error_rate = model.evaluate(X_test, Y_test, verbose=0)\n",
    "print(\"The mean squared error (MSE) for the test data set is: {}\".format(test_error_rate))"
   ]
  },
  {
   "cell_type": "markdown",
   "id": "51e86cf9",
   "metadata": {},
   "source": [
    "# Predict"
   ]
  },
  {
   "cell_type": "code",
   "execution_count": 12,
   "id": "05f5fc6b",
   "metadata": {},
   "outputs": [
    {
     "data": {
      "text/plain": [
       "array([[0.7, 1. , 1. , 1. , 0. , 1. , 0. , 1. , 0.8]])"
      ]
     },
     "execution_count": 12,
     "metadata": {},
     "output_type": "execute_result"
    }
   ],
   "source": [
    "# Load the data we make to use to make a prediction\n",
    "X = pd.read_csv(\"04\\proposed_new_product.csv\").values\n",
    "X\n"
   ]
  },
  {
   "cell_type": "code",
   "execution_count": 13,
   "id": "f46be524",
   "metadata": {},
   "outputs": [],
   "source": [
    "# Make a prediction with the neural network\n",
    "prediction = model.predict(X)\n",
    "\n",
    "# Grab just the first element of the first prediction (since that's the only have one)\n",
    "prediction = prediction[0][0]"
   ]
  },
  {
   "cell_type": "code",
   "execution_count": 14,
   "id": "755de949",
   "metadata": {},
   "outputs": [],
   "source": [
    "# Re-scale the data from the 0-to-1 range back to dollars\n",
    "# These constants are from when the data was originally scaled down to the 0-to-1 range\n",
    "prediction = prediction + 0.1159\n",
    "prediction = prediction / 0.0000036968"
   ]
  },
  {
   "cell_type": "code",
   "execution_count": 15,
   "id": "e259332b",
   "metadata": {},
   "outputs": [
    {
     "name": "stdout",
     "output_type": "stream",
     "text": [
      "Earnings Prediction for Proposed Product - $265135.6474142316\n"
     ]
    }
   ],
   "source": [
    "print(\"Earnings Prediction for Proposed Product - ${}\".format(prediction))"
   ]
  },
  {
   "cell_type": "markdown",
   "id": "22074012",
   "metadata": {},
   "source": [
    "# Saving and Loading models"
   ]
  },
  {
   "cell_type": "code",
   "execution_count": 16,
   "id": "ae7c151b",
   "metadata": {},
   "outputs": [
    {
     "name": "stdout",
     "output_type": "stream",
     "text": [
      "Model saved to disk\n"
     ]
    }
   ],
   "source": [
    "# Save the model to disk\n",
    "model.save(\"trained_model.h5\")\n",
    "print(\"Model saved to disk\")"
   ]
  },
  {
   "cell_type": "markdown",
   "id": "f5e79eeb",
   "metadata": {},
   "source": [
    "# Load Model"
   ]
  },
  {
   "cell_type": "code",
   "execution_count": 18,
   "id": "5c5712ce",
   "metadata": {},
   "outputs": [],
   "source": [
    "import pandas as pd\n",
    "from keras.models import load_model\n",
    "\n",
    "model = load_model(\"trained_model.h5\")"
   ]
  },
  {
   "cell_type": "code",
   "execution_count": 20,
   "id": "5db19875",
   "metadata": {},
   "outputs": [],
   "source": [
    "X = pd.read_csv(\"04\\proposed_new_product.csv\").values\n",
    "prediction = model.predict(X)\n",
    "\n",
    "# Grab just the first element of the first prediction (since we only have one)\n",
    "prediction = prediction[0][0]"
   ]
  },
  {
   "cell_type": "code",
   "execution_count": 21,
   "id": "f2f3746a",
   "metadata": {},
   "outputs": [
    {
     "name": "stdout",
     "output_type": "stream",
     "text": [
      "Earnings Prediction for Proposed Product - $265135.6474142316\n"
     ]
    }
   ],
   "source": [
    "# Re-scale the data from the 0-to-1 range back to dollars\n",
    "# These constants are from when the data was originally scaled down to the 0-to-1 range\n",
    "prediction = prediction + 0.1159\n",
    "prediction = prediction / 0.0000036968\n",
    "\n",
    "print(\"Earnings Prediction for Proposed Product - ${}\".format(prediction))"
   ]
  },
  {
   "cell_type": "code",
   "execution_count": null,
   "id": "486f4fc3",
   "metadata": {},
   "outputs": [],
   "source": []
  }
 ],
 "metadata": {
  "kernelspec": {
   "display_name": "Python 3 (ipykernel)",
   "language": "python",
   "name": "python3"
  },
  "language_info": {
   "codemirror_mode": {
    "name": "ipython",
    "version": 3
   },
   "file_extension": ".py",
   "mimetype": "text/x-python",
   "name": "python",
   "nbconvert_exporter": "python",
   "pygments_lexer": "ipython3",
   "version": "3.9.7"
  }
 },
 "nbformat": 4,
 "nbformat_minor": 5
}
